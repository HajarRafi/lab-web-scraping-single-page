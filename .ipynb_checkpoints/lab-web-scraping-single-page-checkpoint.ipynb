{
 "cells": [
  {
   "cell_type": "markdown",
   "id": "9eaf40b4",
   "metadata": {},
   "source": [
    "# Lab 8.01"
   ]
  },
  {
   "cell_type": "markdown",
   "id": "f5fa2d79",
   "metadata": {},
   "source": [
    "## Instructions\n",
    "\n",
    "Your product will take a song as an input from the user and will output another song (the recommendation). In most cases, the recommended song will have to be similar to the inputted song, but the CTO thinks that if the song is on the top charts at the moment, the user will enjoy more a recommendation of a song that's also popular at the moment.\n",
    "\n",
    "You have find data on the internet about currently popular songs. Billboard maintains a weekly Top 100 of \"hot\" songs here: https://www.billboard.com/charts/hot-100.\n",
    "\n",
    "It's a good place to start! Scrape the current top 100 songs and their respective artists, and put the information into a pandas dataframe."
   ]
  },
  {
   "cell_type": "code",
   "execution_count": 68,
   "id": "667a0f68",
   "metadata": {},
   "outputs": [],
   "source": [
    "from bs4 import BeautifulSoup\n",
    "import requests\n",
    "import pandas as pd\n",
    "import re"
   ]
  },
  {
   "cell_type": "code",
   "execution_count": 2,
   "id": "ef5ef8dc",
   "metadata": {},
   "outputs": [
    {
     "data": {
      "text/plain": [
       "200"
      ]
     },
     "execution_count": 2,
     "metadata": {},
     "output_type": "execute_result"
    }
   ],
   "source": [
    "url = \"https://www.billboard.com/charts/hot-100\"\n",
    "response = requests.get(url)\n",
    "response.status_code"
   ]
  },
  {
   "cell_type": "code",
   "execution_count": 87,
   "id": "880e8fc5",
   "metadata": {},
   "outputs": [],
   "source": [
    "soup = BeautifulSoup(response.content, \"html.parser\")\n",
    "#soup (checked)"
   ]
  },
  {
   "cell_type": "code",
   "execution_count": 93,
   "id": "37a5c9ff",
   "metadata": {},
   "outputs": [
    {
     "data": {
      "text/plain": [
       "'First Class'"
      ]
     },
     "execution_count": 93,
     "metadata": {},
     "output_type": "execute_result"
    }
   ],
   "source": [
    "song_name = soup.find_all('h3',{'class':re.compile('c-title a-no-trucate')})[0]\n",
    "song_name.text.strip()"
   ]
  },
  {
   "cell_type": "code",
   "execution_count": 94,
   "id": "e6df99af",
   "metadata": {},
   "outputs": [
    {
     "data": {
      "text/plain": [
       "'Jack Harlow'"
      ]
     },
     "execution_count": 94,
     "metadata": {},
     "output_type": "execute_result"
    }
   ],
   "source": [
    "artist_name = soup.find_all('span',{'class':re.compile('c-label a-no-trucate')})[0]\n",
    "artist_name.text.strip()"
   ]
  },
  {
   "cell_type": "code",
   "execution_count": 95,
   "id": "f6770d94",
   "metadata": {},
   "outputs": [],
   "source": [
    "#apply in a loop and add to a list\n",
    "song = []\n",
    "artist = []\n",
    "for i in range(100):\n",
    "    \n",
    "    song_name = soup.find_all('h3',{'class':re.compile('c-title a-no-trucate')})[i]\n",
    "    song.append(song_name.text.strip())\n",
    "    artist_name = soup.find_all('span',{'class':re.compile('c-label a-no-trucate')})[i]\n",
    "    artist.append(artist_name.text.strip())"
   ]
  },
  {
   "cell_type": "code",
   "execution_count": 99,
   "id": "232faa19",
   "metadata": {},
   "outputs": [
    {
     "name": "stdout",
     "output_type": "stream",
     "text": [
      "['First Class', 'As It Was', 'Heat Waves', 'Big Energy', 'Enemy']\n",
      "['Jack Harlow', 'Harry Styles', 'Glass Animals', 'Latto', 'Imagine Dragons X JID']\n"
     ]
    }
   ],
   "source": [
    "#check\n",
    "print(song[0:5])\n",
    "print(artist[0:5])"
   ]
  },
  {
   "cell_type": "code",
   "execution_count": 106,
   "id": "6b857a49",
   "metadata": {},
   "outputs": [
    {
     "data": {
      "text/html": [
       "<div>\n",
       "<style scoped>\n",
       "    .dataframe tbody tr th:only-of-type {\n",
       "        vertical-align: middle;\n",
       "    }\n",
       "\n",
       "    .dataframe tbody tr th {\n",
       "        vertical-align: top;\n",
       "    }\n",
       "\n",
       "    .dataframe thead th {\n",
       "        text-align: right;\n",
       "    }\n",
       "</style>\n",
       "<table border=\"1\" class=\"dataframe\">\n",
       "  <thead>\n",
       "    <tr style=\"text-align: right;\">\n",
       "      <th></th>\n",
       "      <th>Artists</th>\n",
       "      <th>Songs</th>\n",
       "    </tr>\n",
       "  </thead>\n",
       "  <tbody>\n",
       "    <tr>\n",
       "      <th>0</th>\n",
       "      <td>Jack Harlow</td>\n",
       "      <td>First Class</td>\n",
       "    </tr>\n",
       "    <tr>\n",
       "      <th>1</th>\n",
       "      <td>Harry Styles</td>\n",
       "      <td>As It Was</td>\n",
       "    </tr>\n",
       "    <tr>\n",
       "      <th>2</th>\n",
       "      <td>Glass Animals</td>\n",
       "      <td>Heat Waves</td>\n",
       "    </tr>\n",
       "    <tr>\n",
       "      <th>3</th>\n",
       "      <td>Latto</td>\n",
       "      <td>Big Energy</td>\n",
       "    </tr>\n",
       "    <tr>\n",
       "      <th>4</th>\n",
       "      <td>Imagine Dragons X JID</td>\n",
       "      <td>Enemy</td>\n",
       "    </tr>\n",
       "    <tr>\n",
       "      <th>...</th>\n",
       "      <td>...</td>\n",
       "      <td>...</td>\n",
       "    </tr>\n",
       "    <tr>\n",
       "      <th>95</th>\n",
       "      <td>Lucky Daye</td>\n",
       "      <td>Over</td>\n",
       "    </tr>\n",
       "    <tr>\n",
       "      <th>96</th>\n",
       "      <td>Pusha T Featuring JAY-Z &amp; Pharrell Williams</td>\n",
       "      <td>Neck &amp; Wrist</td>\n",
       "    </tr>\n",
       "    <tr>\n",
       "      <th>97</th>\n",
       "      <td>Rauw Alejandro &amp; Chencho Corleone</td>\n",
       "      <td>Desesperados</td>\n",
       "    </tr>\n",
       "    <tr>\n",
       "      <th>98</th>\n",
       "      <td>Daddy Yankee &amp; Bad Bunny</td>\n",
       "      <td>X Ultima Vez</td>\n",
       "    </tr>\n",
       "    <tr>\n",
       "      <th>99</th>\n",
       "      <td>BRELAND Featuring Thomas Rhett</td>\n",
       "      <td>Praise The Lord</td>\n",
       "    </tr>\n",
       "  </tbody>\n",
       "</table>\n",
       "<p>100 rows × 2 columns</p>\n",
       "</div>"
      ],
      "text/plain": [
       "                                        Artists            Songs\n",
       "0                                   Jack Harlow      First Class\n",
       "1                                  Harry Styles        As It Was\n",
       "2                                 Glass Animals       Heat Waves\n",
       "3                                         Latto       Big Energy\n",
       "4                         Imagine Dragons X JID            Enemy\n",
       "..                                          ...              ...\n",
       "95                                   Lucky Daye             Over\n",
       "96  Pusha T Featuring JAY-Z & Pharrell Williams     Neck & Wrist\n",
       "97            Rauw Alejandro & Chencho Corleone     Desesperados\n",
       "98                     Daddy Yankee & Bad Bunny     X Ultima Vez\n",
       "99               BRELAND Featuring Thomas Rhett  Praise The Lord\n",
       "\n",
       "[100 rows x 2 columns]"
      ]
     },
     "execution_count": 106,
     "metadata": {},
     "output_type": "execute_result"
    }
   ],
   "source": [
    "top100 = pd.DataFrame({\"Artists\": artist, \"Songs\": song})\n",
    "\n",
    "top100"
   ]
  }
 ],
 "metadata": {
  "kernelspec": {
   "display_name": "Python 3 (ipykernel)",
   "language": "python",
   "name": "python3"
  },
  "language_info": {
   "codemirror_mode": {
    "name": "ipython",
    "version": 3
   },
   "file_extension": ".py",
   "mimetype": "text/x-python",
   "name": "python",
   "nbconvert_exporter": "python",
   "pygments_lexer": "ipython3",
   "version": "3.9.7"
  }
 },
 "nbformat": 4,
 "nbformat_minor": 5
}
